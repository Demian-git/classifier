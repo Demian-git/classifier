{
 "cells": [
  {
   "cell_type": "code",
   "execution_count": 1,
   "id": "c3883d74",
   "metadata": {},
   "outputs": [],
   "source": [
    "import torch\n",
    "import torchaudio\n",
    "from IPython.display import clear_output\n",
    "import gc"
   ]
  },
  {
   "cell_type": "code",
   "execution_count": 2,
   "id": "0e7e3ea3",
   "metadata": {},
   "outputs": [
    {
     "name": "stderr",
     "output_type": "stream",
     "text": [
      "/tmp/ipykernel_489055/1822137616.py:1: UserWarning: torchaudio._backend.set_audio_backend has been deprecated. With dispatcher enabled, this function is no-op. You can remove the function call.\n",
      "  torchaudio.set_audio_backend(\"soundfile\")\n"
     ]
    }
   ],
   "source": [
    "torchaudio.set_audio_backend(\"soundfile\")"
   ]
  },
  {
   "cell_type": "code",
   "execution_count": 3,
   "id": "f4c6b552",
   "metadata": {},
   "outputs": [],
   "source": [
    "# from google.colab import drive\n",
    "# drive.mount('/content/drive')\n",
    "import os\n",
    "# os.chdir('/content/drive/MyDrive/Colab Notebooks/swishnet')\n",
    "# import sys\n",
    "# sys.path.append(os.getcwd())"
   ]
  },
  {
   "cell_type": "code",
   "execution_count": 4,
   "id": "70cf514e",
   "metadata": {},
   "outputs": [],
   "source": [
    "sampling_rate = 16000\n",
    "cutsize = 32000\n",
    "suffix = \"_16K_32000cut\""
   ]
  },
  {
   "cell_type": "code",
   "execution_count": 5,
   "id": "52614629",
   "metadata": {},
   "outputs": [],
   "source": [
    "def collect_wav_files(base_dir):\n",
    "    collected = []\n",
    "    for root, _, files in os.walk(base_dir):  # 모든 하위 디렉토리 탐색\n",
    "        for fname in files:\n",
    "            if fname.lower().endswith(\".wav\"):  # 확장자 필터\n",
    "                full_path = os.path.join(root, fname)\n",
    "                collected.append(full_path)\n",
    "    return collected\n"
   ]
  },
  {
   "cell_type": "code",
   "execution_count": 6,
   "id": "c70d1df3",
   "metadata": {},
   "outputs": [],
   "source": [
    "unpreprocessed_car_dir = \"./car\"\n",
    "unpreprocessed_music_dir = \"./music\"\n",
    "unpreprocessed_noise_dir = \"./noise\"\n",
    "unpreprocessed_speech_dir = \"./speech\""
   ]
  },
  {
   "cell_type": "code",
   "execution_count": 7,
   "id": "28a94bad",
   "metadata": {},
   "outputs": [],
   "source": [
    "unpreprocessed_car_list = collect_wav_files(unpreprocessed_car_dir)\n",
    "unpreprocessed_music_list = collect_wav_files(unpreprocessed_music_dir)\n",
    "unpreprocessed_noise_list = collect_wav_files(unpreprocessed_noise_dir)\n",
    "unpreprocessed_speech_list = collect_wav_files(unpreprocessed_speech_dir)"
   ]
  },
  {
   "cell_type": "code",
   "execution_count": 8,
   "id": "5eea9c67",
   "metadata": {},
   "outputs": [],
   "source": [
    "def get_wav_info_torchaudio(filepath):\n",
    "    info = torchaudio.info(filepath)\n",
    "    \n",
    "    print(f\"파일 경로: {filepath}\")\n",
    "    print(f\"샘플링 레이트 (Hz): {info.sample_rate}\")\n",
    "    print(f\"채널 수: {info.num_channels}\")\n",
    "    print(f\"총 프레임 수: {info.num_frames}\")\n",
    "    print(f\"재생 시간 (초): {info.num_frames / info.sample_rate:.2f}\")\n",
    "    print(f\"비트 깊이: {info.bits_per_sample}\")"
   ]
  },
  {
   "cell_type": "code",
   "execution_count": 9,
   "id": "622643c0",
   "metadata": {},
   "outputs": [
    {
     "name": "stdout",
     "output_type": "stream",
     "text": [
      "./car/vehicle_vehicle/bus/Bus_Driving_Sound_1_HOUR_650.wav\n",
      "파일 경로: ./car/vehicle_vehicle/bus/Bus_Driving_Sound_1_HOUR_650.wav\n",
      "샘플링 레이트 (Hz): 44100\n",
      "채널 수: 2\n",
      "총 프레임 수: 220500\n",
      "재생 시간 (초): 5.00\n",
      "비트 깊이: 16\n"
     ]
    }
   ],
   "source": [
    "print(unpreprocessed_car_list[0])\n",
    "get_wav_info_torchaudio(unpreprocessed_car_list[0])\n"
   ]
  },
  {
   "cell_type": "code",
   "execution_count": 10,
   "id": "62b82ce9",
   "metadata": {},
   "outputs": [],
   "source": [
    "resamplers = {}\n",
    "\n",
    "def preprocess(preprocessed_data_list):\n",
    "    data_list = []\n",
    "    for path in preprocessed_data_list:\n",
    "        try:\n",
    "            print(f\" Processing: {path}\")\n",
    "            waveform, sample_rate = torchaudio.load(path)\n",
    "\n",
    "            if sample_rate != sampling_rate:        #만약 원하는 샘플링 레이트랑 다를 경우\n",
    "                if sample_rate not in resamplers:   #특정 리샘플러가 없을 경우\n",
    "                    resamplers[sample_rate] = torchaudio.transforms.Resample(orig_freq=sample_rate, new_freq=sampling_rate) #리샘플러 딕셔너리에 sample_rate 의 이름으로 리샘플러 생성\n",
    "                waveform = resamplers[sample_rate](waveform)  #sample_rate 리샘플러 불러와서 리샘플\n",
    "\n",
    "            if waveform.shape[0] > 1: #만약 채널이 2이상일경우\n",
    "                waveform = waveform.mean(dim=0, keepdim=True) #두 채널을 평균낸다\n",
    "            waveform = waveform.squeeze(0)\n",
    "\n",
    "            total_length = waveform.shape[0]\n",
    "            valid_length = (total_length // cutsize) * cutsize #컷팅사이즈 정수배로 잘라 유효한 길이 \n",
    "\n",
    "            for i in range(valid_length // cutsize): #커팅사이즈 길이만큼\n",
    "                try:\n",
    "                    segment = waveform[i * cutsize : (i + 1) * cutsize] #waveform의 커팅사이즈 i ~ i+1만큼을 \n",
    "                    data_list.append(segment) \n",
    "                except Exception as seg_error:\n",
    "                    print(f\"⚠️ Error cutting segment {i} of {path}: {seg_error}\")\n",
    "                    continue\n",
    "            del waveform, segment\n",
    "            gc.collect()\n",
    "        except Exception as e:\n",
    "            print(f\" Failed to process {path}: {e}\")\n",
    "            continue\n",
    "    clear_output(wait=True)\n",
    "    return data_list\n"
   ]
  },
  {
   "cell_type": "code",
   "execution_count": 11,
   "id": "5e2afb7d",
   "metadata": {},
   "outputs": [],
   "source": [
    "# car_list = preprocess(unpreprocessed_car_list)\n",
    "# print(len(car_list))\n",
    "# torch.save(car_list, f\"../unsplited/car/car_data{suffix}.pt\")"
   ]
  },
  {
   "cell_type": "code",
   "execution_count": 12,
   "id": "41643ce6",
   "metadata": {},
   "outputs": [],
   "source": [
    "# music_list = preprocess(unpreprocessed_music_list)\n",
    "# print(len(music_list))\n",
    "# torch.save(music_list, f\"../unsplited/music/music_data{suffix}.pt\")"
   ]
  },
  {
   "cell_type": "code",
   "execution_count": 13,
   "id": "7e856ccd",
   "metadata": {},
   "outputs": [],
   "source": [
    "# noise_list = preprocess(unpreprocessed_noise_list)\n",
    "# print(len(noise_list))\n",
    "# torch.save(noise_list, f\"../unsplited/noise/noise_data{suffix}.pt\")"
   ]
  },
  {
   "cell_type": "code",
   "execution_count": 14,
   "id": "2e036731",
   "metadata": {},
   "outputs": [
    {
     "name": "stdout",
     "output_type": "stream",
     "text": [
      "108561\n"
     ]
    }
   ],
   "source": [
    "speech_list = preprocess(unpreprocessed_speech_list)\n",
    "print(len(speech_list))\n",
    "torch.save(speech_list, f\"../unsplited/speech/speech_data{suffix}.pt\")"
   ]
  },
  {
   "cell_type": "code",
   "execution_count": null,
   "id": "62b0cc50",
   "metadata": {},
   "outputs": [],
   "source": [
    "\n",
    "\n",
    "\n"
   ]
  }
 ],
 "metadata": {
  "kernelspec": {
   "display_name": ".venv",
   "language": "python",
   "name": "python3"
  },
  "language_info": {
   "codemirror_mode": {
    "name": "ipython",
    "version": 3
   },
   "file_extension": ".py",
   "mimetype": "text/x-python",
   "name": "python",
   "nbconvert_exporter": "python",
   "pygments_lexer": "ipython3",
   "version": "3.12.9"
  }
 },
 "nbformat": 4,
 "nbformat_minor": 5
}
