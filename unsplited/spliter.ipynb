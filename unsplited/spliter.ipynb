{
 "cells": [
  {
   "cell_type": "code",
   "execution_count": null,
   "id": "6f0713d3",
   "metadata": {},
   "outputs": [],
   "source": [
    "import torch\n",
    "import torchaudio\n",
    "import random"
   ]
  },
  {
   "cell_type": "code",
   "execution_count": 8,
   "id": "05904d05",
   "metadata": {},
   "outputs": [],
   "source": [
    "# from google.colab import drive\n",
    "# drive.mount('/content/drive')\n",
    "import os\n",
    "# os.chdir('/content/drive/MyDrive/Colab Notebooks/swishnet')\n",
    "# import sys\n",
    "# sys.path.append(os.getcwd())"
   ]
  },
  {
   "cell_type": "code",
   "execution_count": 9,
   "id": "396e332f",
   "metadata": {},
   "outputs": [],
   "source": [
    "car_data_dir = './car/car_data.pt'\n",
    "music_data_dir = './music/music_data.pt'\n",
    "noise_data_dir = './noise/noise_data.pt'\n",
    "speech_data_dir = './speech/speech_data.pt'"
   ]
  },
  {
   "cell_type": "code",
   "execution_count": null,
   "id": "0127401c",
   "metadata": {},
   "outputs": [],
   "source": [
    "car_data = torch.load(car_data_dir)\n",
    "music_data = torch.load(music_data_dir)\n",
    "noise_data = torch.load(noise_data_dir)\n",
    "sppech_data = torch.load(speech_data_dir)"
   ]
  },
  {
   "cell_type": "code",
   "execution_count": null,
   "id": "759587bc",
   "metadata": {},
   "outputs": [],
   "source": [
    "random.shuffle(car_data)\n",
    "random.shuffle(music_data)\n",
    "random.shuffle(noise_data)\n",
    "random.shuffle(sppech_data)"
   ]
  },
  {
   "cell_type": "code",
   "execution_count": 12,
   "id": "9dc7529b",
   "metadata": {},
   "outputs": [
    {
     "name": "stdout",
     "output_type": "stream",
     "text": [
      "690\n",
      "20000\n"
     ]
    }
   ],
   "source": [
    "print(len(car_data))\n",
    "print(len(car_data[0]))"
   ]
  },
  {
   "cell_type": "code",
   "execution_count": null,
   "id": "217e70f1",
   "metadata": {},
   "outputs": [],
   "source": [
    "min_data_number = min(len(car_data), len(music_data), len(noise_data), len(sppech_data))\n",
    "\n",
    "train_ratio = 0.9\n",
    "eval_ratio = 0.1\n",
    "\n",
    "zero_to_train_number = int(min_data_number * train_ratio)\n",
    "train_to_eval_number = int(min_data_number * eval_ratio)\n",
    "\n",
    "train_car_data = car_data[:zero_to_train_number]\n",
    "train_music_data = music_data[:zero_to_train_number]\n",
    "train_noise_data = noise_data[:zero_to_train_number]\n",
    "train_speech_data = sppech_data[:zero_to_train_number]\n",
    "\n",
    "eval_car_data = car_data[zero_to_train_number:zero_to_train_number + train_to_eval_number]\n",
    "eval_music_data = music_data[zero_to_train_number:zero_to_train_number + train_to_eval_number]\n",
    "eval_noise_data = noise_data[zero_to_train_number:zero_to_train_number + train_to_eval_number] \n",
    "eval_speech_data = sppech_data[zero_to_train_number:zero_to_train_number + train_to_eval_number]      \n"
   ]
  },
  {
   "cell_type": "code",
   "execution_count": null,
   "id": "f2c65be4",
   "metadata": {},
   "outputs": [],
   "source": [
    "torch.save(train_car_data, \"../train/car/train_car_data.pt\")\n",
    "torch.save(train_music_data, \"../train/music/train_music_data.pt\")\n",
    "torch.save(train_noise_data, \"../train/noise/train_noise_data.pt\")\n",
    "torch.save(train_speech_data, \"../train/speech/train_speech_data.pt\")\n",
    "\n",
    "torch.save(eval_car_data, \"../eval/car/eval_car_data.pt\")\n",
    "torch.save(eval_music_data, \"../eval/music/eval_music_data.pt\")\n",
    "torch.save(eval_speech_data, \"../eval/speech/eval_speech_data.pt\")\n",
    "torch.save(eval_noise_data, \"../eval/noise/eval_noise_data.pt\")"
   ]
  }
 ],
 "metadata": {
  "kernelspec": {
   "display_name": ".venv",
   "language": "python",
   "name": "python3"
  },
  "language_info": {
   "codemirror_mode": {
    "name": "ipython",
    "version": 3
   },
   "file_extension": ".py",
   "mimetype": "text/x-python",
   "name": "python",
   "nbconvert_exporter": "python",
   "pygments_lexer": "ipython3",
   "version": "3.12.9"
  }
 },
 "nbformat": 4,
 "nbformat_minor": 5
}
