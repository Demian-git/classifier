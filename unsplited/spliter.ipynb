{
 "cells": [
  {
   "cell_type": "code",
   "execution_count": 1,
   "id": "6f0713d3",
   "metadata": {},
   "outputs": [],
   "source": [
    "import torch\n",
    "import random"
   ]
  },
  {
   "cell_type": "code",
   "execution_count": 2,
   "id": "05904d05",
   "metadata": {},
   "outputs": [],
   "source": [
    "# from google.colab import drive\n",
    "# drive.mount('/content/drive')\n",
    "import os\n",
    "# os.chdir('/content/drive/MyDrive/Colab Notebooks/swishnet')\n",
    "# import sys\n",
    "# sys.path.append(os.getcwd())"
   ]
  },
  {
   "cell_type": "code",
   "execution_count": 3,
   "id": "7e3bacaf",
   "metadata": {},
   "outputs": [],
   "source": [
    "suffix = \"_16K_32000cut\"\n",
    "train_ratio = 0.9\n",
    "eval_ratio = 0.1"
   ]
  },
  {
   "cell_type": "code",
   "execution_count": 4,
   "id": "396e332f",
   "metadata": {},
   "outputs": [],
   "source": [
    "car_data_dir = f'./car/car_data{suffix}.pt'\n",
    "music_data_dir = f'./music/music_data{suffix}.pt'\n",
    "noise_data_dir = f'./noise/noise_data{suffix}.pt'\n",
    "speech_data_dir = f'./speech/speech_data{suffix}.pt'"
   ]
  },
  {
   "cell_type": "code",
   "execution_count": 5,
   "id": "c7ebf4f9",
   "metadata": {},
   "outputs": [],
   "source": [
    "# 구버전\n",
    "# def split(data,data_number,train_ratio=0.9, eval_ratio=0.1):\n",
    "#     random.shuffle(data)\n",
    "#     zero_to_train_number = int(data_number * train_ratio)\n",
    "#     train_to_eval_number = int(data_number * eval_ratio)\n",
    "\n",
    "#     train_car_data = data[:zero_to_train_number]\n",
    "#     eval_car_data = data[zero_to_train_number:zero_to_train_number + train_to_eval_number]\n",
    "#     return train_car_data,eval_car_data\n"
   ]
  },
  {
   "cell_type": "code",
   "execution_count": 6,
   "id": "1c98e255",
   "metadata": {},
   "outputs": [],
   "source": [
    "def split(data, data_number, train_ratio=0.9, eval_ratio=0.1):\n",
    "    random.shuffle(data)\n",
    "    zero_to_train_number = int(data_number * train_ratio)\n",
    "    train_to_eval_number = int(data_number * eval_ratio)\n",
    "\n",
    "    train_data = [x.clone().detach().contiguous() for x in data[:zero_to_train_number]]\n",
    "    eval_data = [x.clone().detach().contiguous() for x in data[zero_to_train_number:zero_to_train_number + train_to_eval_number]]\n",
    "    \n",
    "    return train_data, eval_data"
   ]
  },
  {
   "cell_type": "code",
   "execution_count": 7,
   "id": "8ece8f80",
   "metadata": {},
   "outputs": [],
   "source": [
    "min_data_number = 3991"
   ]
  },
  {
   "cell_type": "code",
   "execution_count": 8,
   "id": "759587bc",
   "metadata": {},
   "outputs": [],
   "source": [
    "# car_data = torch.load(car_data_dir)\n",
    "# print(len(car_data))\n",
    "# print(len(car_data[0]))\n",
    "# train_car_data,eval_car_data = split(car_data,min_data_number)\n",
    "# torch.save(train_car_data, f\"../train/car/train_car_data{suffix}.pt\")\n",
    "# torch.save(eval_car_data, f\"../eval/car/eval_car_data{suffix}.pt\")"
   ]
  },
  {
   "cell_type": "code",
   "execution_count": 9,
   "id": "239283c2",
   "metadata": {},
   "outputs": [],
   "source": [
    "# music_data = torch.load(music_data_dir)\n",
    "# print(len(music_data))\n",
    "# print(len(music_data[0]))\n",
    "# train_music_data,eval_music_data = split(music_data,min_data_number)\n",
    "# torch.save(train_music_data, f\"../train/music/train_music_data{suffix}.pt\")\n",
    "# torch.save(eval_music_data, f\"../eval/music/eval_music_data{suffix}.pt\")"
   ]
  },
  {
   "cell_type": "code",
   "execution_count": 10,
   "id": "8167ac4e",
   "metadata": {},
   "outputs": [],
   "source": [
    "# noise_data = torch.load(noise_data_dir)\n",
    "# print(len(noise_data))\n",
    "# print(len(noise_data[0]))\n",
    "# train_noise_data,eval_noise_data = split(noise_data,min_data_number)\n",
    "# torch.save(train_noise_data, f\"../train/noise/train_noise_data{suffix}.pt\")\n",
    "# torch.save(eval_noise_data, f\"../eval/noise/eval_noise_data{suffix}.pt\")"
   ]
  },
  {
   "cell_type": "code",
   "execution_count": 11,
   "id": "9dc7529b",
   "metadata": {},
   "outputs": [
    {
     "name": "stdout",
     "output_type": "stream",
     "text": [
      "108561\n",
      "32000\n"
     ]
    }
   ],
   "source": [
    "speech_data = torch.load(speech_data_dir)\n",
    "print(len(speech_data))\n",
    "print(len(speech_data[0]))\n",
    "train_speech_data,eval_speech_data = split(speech_data,min_data_number)\n",
    "torch.save(train_speech_data, f\"../train/speech/train_speech_data{suffix}.pt\")\n",
    "torch.save(eval_speech_data, f\"../eval/speech/eval_speech_data{suffix}.pt\")"
   ]
  },
  {
   "cell_type": "code",
   "execution_count": 12,
   "id": "d37a21d0",
   "metadata": {},
   "outputs": [],
   "source": [
    "train_car_data_dir = f'../train/car/train_car_data{suffix}.pt'\n",
    "train_music_data_dir = f'../train/music/train_music_data{suffix}.pt'\n",
    "train_noise_data_dir = f'../train/noise/train_noise_data{suffix}.pt'\n",
    "train_speech_data_dir = f'../train/speech/train_speech_data{suffix}.pt'\n",
    "eval_car_data_dir = f'../eval/car/eval_car_data{suffix}.pt'\n",
    "eval_music_data_dir = f'../eval/music/eval_music_data{suffix}.pt'\n",
    "eval_noise_data_dir = f'../eval/noise/eval_noise_data{suffix}.pt'\n",
    "eval_speech_data_dir = f'../eval/speech/eval_speech_data{suffix}.pt'"
   ]
  }
 ],
 "metadata": {
  "kernelspec": {
   "display_name": ".venv",
   "language": "python",
   "name": "python3"
  },
  "language_info": {
   "codemirror_mode": {
    "name": "ipython",
    "version": 3
   },
   "file_extension": ".py",
   "mimetype": "text/x-python",
   "name": "python",
   "nbconvert_exporter": "python",
   "pygments_lexer": "ipython3",
   "version": "3.12.9"
  }
 },
 "nbformat": 4,
 "nbformat_minor": 5
}
