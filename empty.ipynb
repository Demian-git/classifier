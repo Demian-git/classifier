{
 "cells": [
  {
   "cell_type": "code",
   "execution_count": 3,
   "id": "aae21ef5",
   "metadata": {},
   "outputs": [
    {
     "name": "stdout",
     "output_type": "stream",
     "text": [
      "Deleted directory: preprocessing/car/Cars_2\n",
      "Deleted directory: preprocessing/car/Cars\n",
      "Deleted directory: preprocessing/music/Cars\n",
      "Deleted directory: preprocessing/noise/Airplane\n",
      "Deleted directory: preprocessing/noise/Cars\n",
      "Deleted directory: preprocessing/speech/Cars\n"
     ]
    }
   ],
   "source": [
    "import os\n",
    "import shutil\n",
    "\n",
    "# 초기화할 폴더 목록 (preprocessing 포함)\n",
    "folders = [\n",
    "    \"train/car\", \"train/music\", \"train/noise\", \"train/speech\",\n",
    "    \"eval/car\", \"eval/music\", \"eval/noise\", \"eval/speech\",\n",
    "    \"unsplited/car\", \"unsplited/music\", \"unsplited/noise\", \"unsplited/speech\",\n",
    "    \"preprocessing/car\", \"preprocessing/music\", \"preprocessing/noise\", \"preprocessing/speech\"\n",
    "]\n",
    "\n",
    "for folder in folders:\n",
    "    if not os.path.exists(folder):\n",
    "        continue\n",
    "    for item in os.listdir(folder):\n",
    "        item_path = os.path.join(folder, item)\n",
    "        if os.path.isfile(item_path) and item != \".gitkeep\":\n",
    "            os.remove(item_path)\n",
    "            print(f\"Deleted file: {item_path}\")\n",
    "        elif os.path.isdir(item_path):\n",
    "            shutil.rmtree(item_path)\n",
    "            print(f\"Deleted directory: {item_path}\")\n"
   ]
  }
 ],
 "metadata": {
  "kernelspec": {
   "display_name": ".venv",
   "language": "python",
   "name": "python3"
  },
  "language_info": {
   "codemirror_mode": {
    "name": "ipython",
    "version": 3
   },
   "file_extension": ".py",
   "mimetype": "text/x-python",
   "name": "python",
   "nbconvert_exporter": "python",
   "pygments_lexer": "ipython3",
   "version": "3.12.9"
  }
 },
 "nbformat": 4,
 "nbformat_minor": 5
}
