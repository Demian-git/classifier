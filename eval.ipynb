{
 "cells": [
  {
   "cell_type": "code",
   "execution_count": 1,
   "metadata": {
    "colab": {
     "base_uri": "https://localhost:8080/"
    },
    "executionInfo": {
     "elapsed": 4463,
     "status": "ok",
     "timestamp": 1747491547671,
     "user": {
      "displayName": "이채훈",
      "userId": "14976066403014206527"
     },
     "user_tz": -540
    },
    "id": "OtRy8skZ62ky",
    "outputId": "70bfc299-5d78-4968-9a7a-90680b27dccf"
   },
   "outputs": [],
   "source": [
    "# from google.colab import drive\n",
    "# drive.mount('/content/drive')\n",
    "# import os\n",
    "# os.chdir('/content/drive/MyDrive/Colab Notebooks/swishnet')\n",
    "# import sys\n",
    "# sys.path.append(os.getcwd())\n",
    "# !pip install import-ipynb"
   ]
  },
  {
   "cell_type": "code",
   "execution_count": 2,
   "metadata": {
    "executionInfo": {
     "elapsed": 4,
     "status": "ok",
     "timestamp": 1747491547695,
     "user": {
      "displayName": "이채훈",
      "userId": "14976066403014206527"
     },
     "user_tz": -540
    },
    "id": "vOstf8BffyHp"
   },
   "outputs": [],
   "source": [
    "import torch\n",
    "import import_ipynb\n",
    "from dataset import eval_data\n",
    "from model import swishnet"
   ]
  },
  {
   "cell_type": "code",
   "execution_count": 3,
   "metadata": {
    "colab": {
     "base_uri": "https://localhost:8080/"
    },
    "executionInfo": {
     "elapsed": 4,
     "status": "ok",
     "timestamp": 1747491547696,
     "user": {
      "displayName": "이채훈",
      "userId": "14976066403014206527"
     },
     "user_tz": -540
    },
    "id": "ZXGB-Sa9f3R9",
    "outputId": "9b8ae16e-863b-4958-b4c6-1c490664e4d9"
   },
   "outputs": [
    {
     "name": "stdout",
     "output_type": "stream",
     "text": [
      "cuda\n"
     ]
    }
   ],
   "source": [
    "device = \"cuda\" if torch.cuda.is_available() else \"cpu\"\n",
    "print(device)"
   ]
  },
  {
   "cell_type": "code",
   "execution_count": 4,
   "metadata": {
    "colab": {
     "base_uri": "https://localhost:8080/",
     "height": 360
    },
    "executionInfo": {
     "elapsed": 56,
     "status": "error",
     "timestamp": 1747491547752,
     "user": {
      "displayName": "이채훈",
      "userId": "14976066403014206527"
     },
     "user_tz": -540
    },
    "id": "vNVyGH5Nf8Bl",
    "outputId": "f1794955-3126-4ddc-95f5-da8401bf3274"
   },
   "outputs": [],
   "source": [
    "epoch = 410\n",
    "times = 0\n",
    "model = swishnet(sample_rate=16000).to(device)\n",
    "model.load_state_dict(torch.load(f'swishnet_times_{times}_epoch_{epoch}.pth'))\n",
    "evel  = eval_data()"
   ]
  },
  {
   "cell_type": "code",
   "execution_count": null,
   "metadata": {
    "executionInfo": {
     "elapsed": 5,
     "status": "aborted",
     "timestamp": 1747491547755,
     "user": {
      "displayName": "이채훈",
      "userId": "14976066403014206527"
     },
     "user_tz": -540
    },
    "id": "JekEQ42DlASc"
   },
   "outputs": [
    {
     "name": "stdout",
     "output_type": "stream",
     "text": [
      "Test Acc: 0.956767\n"
     ]
    }
   ],
   "source": [
    "model.eval()\n",
    "test_correct = 0\n",
    "test_total = 0\n",
    "with torch.no_grad():\n",
    "    for X, y in evel:\n",
    "        test_total += 1\n",
    "        X = X.to(device)\n",
    "        X = X.unsqueeze(0)\n",
    "        pred = model(X)\n",
    "        probs = torch.softmax(pred, dim=1)\n",
    "        preds = probs.argmax(dim=1)# 🔸예측 클래스 index\n",
    "        if preds == y:\n",
    "            test_correct += 1\n",
    "\n",
    "    test_acc = test_correct / test_total\n",
    "    print(f\"Test Acc: {test_acc:.6f}\")\n"
   ]
  }
 ],
 "metadata": {
  "accelerator": "GPU",
  "colab": {
   "authorship_tag": "ABX9TyPWEDszX3uEhTmVUDNqpPGB",
   "gpuType": "T4",
   "provenance": []
  },
  "kernelspec": {
   "display_name": ".venv",
   "language": "python",
   "name": "python3"
  },
  "language_info": {
   "codemirror_mode": {
    "name": "ipython",
    "version": 3
   },
   "file_extension": ".py",
   "mimetype": "text/x-python",
   "name": "python",
   "nbconvert_exporter": "python",
   "pygments_lexer": "ipython3",
   "version": "3.12.9"
  }
 },
 "nbformat": 4,
 "nbformat_minor": 0
}
