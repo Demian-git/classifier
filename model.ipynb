{
 "cells": [
  {
   "cell_type": "code",
   "execution_count": null,
   "id": "1f7eeb7e",
   "metadata": {
    "id": "1f7eeb7e"
   },
   "outputs": [],
   "source": [
    "import torch\n",
    "import torch.nn as nn\n",
    "import torchaudio\n",
    "from torchaudio.transforms import MFCC\n"
   ]
  },
  {
   "cell_type": "code",
   "execution_count": null,
   "id": "02f05ff1",
   "metadata": {
    "id": "02f05ff1"
   },
   "outputs": [],
   "source": [
    "class CausalConv1d(nn.Module):\n",
    "    def __init__(self, in_channels, out_channels, kernel_size, dilation=1, stride=1):\n",
    "        super(CausalConv1d, self).__init__()\n",
    "        self.pad = (kernel_size - 1) * dilation\n",
    "        self.conv = nn.Conv1d(\n",
    "            in_channels, out_channels, kernel_size,\n",
    "            padding=0,\n",
    "            dilation=dilation,\n",
    "            stride=stride\n",
    "        )\n",
    "\n",
    "    def forward(self, x):\n",
    "        x = nn.functional.pad(x, (self.pad, 0))\n",
    "        return self.conv(x)"
   ]
  },
  {
   "cell_type": "code",
   "execution_count": null,
   "id": "ac89e474",
   "metadata": {
    "id": "ac89e474"
   },
   "outputs": [],
   "source": [
    "class swishnet_module(nn.Module):\n",
    "    def __init__(self,filter,length,in_channels,dilation=1,stride=1):\n",
    "        super().__init__()\n",
    "        self.tanh = nn.Tanh()\n",
    "        self.sig = nn.Sigmoid()\n",
    "        self.CausalConv1d = CausalConv1d(in_channels=in_channels, out_channels=filter, kernel_size=length, dilation=dilation, stride=stride )\n",
    "\n",
    "    def forward(self, x):\n",
    "        x = self.CausalConv1d(x)\n",
    "        sig = self.sig(x)\n",
    "        tanh = self.tanh(x)\n",
    "        return sig * tanh"
   ]
  },
  {
   "cell_type": "code",
   "execution_count": null,
   "id": "6b11a521",
   "metadata": {
    "id": "6b11a521"
   },
   "outputs": [],
   "source": [
    "class swishnet(nn.Module):\n",
    "    def __init__(self,sample_rate):\n",
    "        super(swishnet, self).__init__()\n",
    "\n",
    "        self.dropout = nn.Dropout(p=0.2)\n",
    "\n",
    "        self.mfcc_transform = MFCC(\n",
    "            sample_rate=sample_rate,\n",
    "            n_mfcc=20,              # 추출할 MFCC 계수 수\n",
    "            melkwargs={\n",
    "                \"n_fft\": 400,\n",
    "                \"hop_length\": 200,\n",
    "                \"n_mels\": 40,\n",
    "                \"center\": False,\n",
    "                \"power\": 2.0\n",
    "            }\n",
    "        )\n",
    "        self.block_1_up = swishnet_module(in_channels=20, filter=16, length=3, dilation=1)\n",
    "        self.block_1_down = swishnet_module(in_channels=20, filter=16, length=6, dilation=1)\n",
    "\n",
    "        self.block_2_up = swishnet_module(in_channels=32, filter=8, length=3, dilation=1)\n",
    "        self.block_2_down = swishnet_module(in_channels=32, filter=8, length=6, dilation=1)\n",
    "\n",
    "        self.block_3_up = swishnet_module(in_channels=16, filter=8, length=3, dilation=1)\n",
    "        self.block_3_down = swishnet_module(in_channels=16, filter=8, length=6, dilation=1)\n",
    "\n",
    "        self.block_4 = swishnet_module(in_channels=16, filter=16, length=3, dilation=3)\n",
    "        self.block_5 = swishnet_module(in_channels=16, filter=16, length=3, dilation=2)\n",
    "        self.block_6 = swishnet_module(in_channels=16, filter=16, length=3, dilation=2)\n",
    "        self.block_7 = swishnet_module(in_channels=16, filter=16, length=3, dilation=2)\n",
    "        self.block_8 = swishnet_module(in_channels=16, filter=32, length=3, dilation=2)\n",
    "\n",
    "        self.cnn_9 = nn.Conv1d(in_channels=80, out_channels=4, kernel_size=1)\n",
    "        self.AdaptiveAvgPool1d = nn.AdaptiveAvgPool1d(1)\n",
    "        self.soft = nn.Softmax(dim=1)\n",
    "\n",
    "    def forward(self,waveform):\n",
    "        #print(waveform.shape,0)\n",
    "        mfcc = self.mfcc_transform(waveform)     #16,1,20000 ->16,20 ,~\n",
    "        mfcc = mfcc.squeeze(1)\n",
    "        #print(mfcc.shape,1)\n",
    "\n",
    "        x1 = self.block_1_up(mfcc)          #16,20 ,~ ->16,16 ,~\n",
    "        y1 = self.block_1_down(mfcc)        #16,20 ,~ ->16,16 ,~\n",
    "        #print(x1.shape,2)\n",
    "\n",
    "        z1 = torch.cat([x1,y1],dim=1)       #16,16 ,~ *2 ->16,32 ,~\n",
    "        z1 = self.dropout(z1)\n",
    "        #print(z1.shape,3)\n",
    "\n",
    "        x2 = self.block_2_up(z1)            #16,32 ,~  ->16,8 ,~\n",
    "        y2 = self.block_2_down(z1)          #16,32 ,~  ->16,8 ,~\n",
    "        z2 = torch.cat([x2,y2],dim=1)       #16,8 ,~ *2 ->16,16 ,~\n",
    "        z2 = self.dropout(z2)\n",
    "        #print(z2.shape,4)                   #torch.Size([16, 16, 99])\n",
    "\n",
    "        x3 = self.block_3_up(z2)            #[16,16,~] -> [16,8,~]\n",
    "        y3 = self.block_3_down(z2)          #[16,16,~] -> [16,8,~]\n",
    "        z3 = torch.cat([x3,y3],dim=1)       #[16,8,~]*2 -> [16,16,~]\n",
    "        sum3 = z2 + z3\n",
    "        sum3 = self.dropout(sum3)\n",
    "        # print(sum3.shape,5)                 #torch.Size([16, 16, 99]) 5\n",
    "\n",
    "        z4 = self.block_4(sum3)             #[16,16,~] -> [16,16,~]\n",
    "        sum4 = sum3 + z4\n",
    "        sum4 = self.dropout(sum4)\n",
    "        #print(sum4.shape,6)                 #torch.Size([16, 16, 99]) 6\n",
    "\n",
    "        z5 = self.block_5(sum4)             #[16,16,~] -> [16,16,~]\n",
    "        sum5 = sum4 + z5\n",
    "        sum5 = self.dropout(sum5)\n",
    "        #print(sum5.shape,7)\n",
    "\n",
    "        z6 = self.block_6(sum5)             #[16,16,~] -> [16,16,~]\n",
    "        sum6 = sum5 + z6\n",
    "        sum6 = self.dropout(sum6)\n",
    "        #print(sum6.shape,8)\n",
    "\n",
    "        z7 = self.block_7(sum6)             #[16,16,~] -> [16,16,~]\n",
    "        z7 = self.dropout(z7)\n",
    "        #print(z7.shape,9)\n",
    "\n",
    "        z8 = self.block_8(z7)               #[16,16,~] -> [16,16,~]\n",
    "        cat8 = torch.cat([z7,z8,z5,z6],dim=1)\n",
    "        cat8 = self.dropout(cat8)\n",
    "        #print(cat8.shape,10)\n",
    "\n",
    "        cnn_9 = self.cnn_9(cat8)\n",
    "        cnn_9 = self.dropout(cnn_9)\n",
    "        #print(cnn_9.shape,11)\n",
    "\n",
    "        AdaptiveAvgPool1d = self.AdaptiveAvgPool1d(cnn_9).squeeze(-1)\n",
    "        #print(AdaptiveAvgPool1d.shape,12)\n",
    "\n",
    "\n",
    "        return AdaptiveAvgPool1d"
   ]
  }
 ],
 "metadata": {
  "colab": {
   "provenance": []
  },
  "kernelspec": {
   "display_name": ".venv",
   "language": "python",
   "name": "python3"
  },
  "language_info": {
   "codemirror_mode": {
    "name": "ipython",
    "version": 3
   },
   "file_extension": ".py",
   "mimetype": "text/x-python",
   "name": "python",
   "nbconvert_exporter": "python",
   "pygments_lexer": "ipython3",
   "version": "3.12.9"
  }
 },
 "nbformat": 4,
 "nbformat_minor": 5
}
