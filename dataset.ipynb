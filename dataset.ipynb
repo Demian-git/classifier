{
 "cells": [
  {
   "cell_type": "code",
   "execution_count": null,
   "metadata": {
    "id": "4F0ucGiy6Vs4"
   },
   "outputs": [],
   "source": [
    "import torch\n",
    "import torchaudio\n",
    "from torch.utils.data import Dataset, DataLoader"
   ]
  },
  {
   "cell_type": "code",
   "execution_count": null,
   "metadata": {
    "colab": {
     "base_uri": "https://localhost:8080/"
    },
    "executionInfo": {
     "elapsed": 1561,
     "status": "ok",
     "timestamp": 1747031366056,
     "user": {
      "displayName": "이채훈",
      "userId": "14976066403014206527"
     },
     "user_tz": -540
    },
    "id": "6Bn1jW8rGIhQ",
    "outputId": "a91e1383-dcba-4fb8-e7b3-9e92c42d17c3"
   },
   "outputs": [
    {
     "name": "stdout",
     "output_type": "stream",
     "text": [
      "Drive already mounted at /content/drive; to attempt to forcibly remount, call drive.mount(\"/content/drive\", force_remount=True).\n"
     ]
    }
   ],
   "source": [
    "from google.colab import drive\n",
    "drive.mount('/content/drive')\n",
    "\n",
    "import os\n",
    "os.chdir('/content/drive/MyDrive/Colab Notebooks/swishnet')\n",
    "\n",
    "import sys\n",
    "sys.path.append(os.getcwd())"
   ]
  },
  {
   "cell_type": "code",
   "execution_count": null,
   "metadata": {
    "id": "1g_JU8dEGThG"
   },
   "outputs": [],
   "source": [
    "class train_data(Dataset):\n",
    "    def __init__(self):\n",
    "        super().__init__()\n",
    "        self.train_car_data_dir = './train/car/car_data.pt'\n",
    "        self.train_music_data_dir = './train/music/music_data.pt'\n",
    "        self.train_noise_data_dir = './train/noise/noise_data.pt'\n",
    "        self.train_speech_data_dir = './train/speech/speech_data.pt'\n",
    "\n",
    "        self.car_data = torch.load(self.train_car_data_dir)\n",
    "        self.music_data = torch.load(self.train_music_data_dir)\n",
    "        self.noise_data = torch.load(self.train_noise_data_dir)\n",
    "        self.speech_data = torch.load(self.train_speech_data_dir)\n",
    "        \n",
    "        self.data = self.car_data + self.music_data + self.noise_data + self.speech_data\n",
    "        \n",
    "    def __len__(self):\n",
    "        return len(self.data)\n",
    "    def __getitem__(self,x):\n",
    "        return self.data[x]\n"
   ]
  },
  {
   "cell_type": "code",
   "execution_count": null,
   "metadata": {
    "id": "kN-Li8jCWKN_"
   },
   "outputs": [],
   "source": [
    "class eval_data(Dataset):\n",
    "    def __init__(self):\n",
    "        super().__init__()\n",
    "\n",
    "        self.eval_car_data_dir = './eval/car/car_data.pt'\n",
    "        self.eval_music_data_dir = './eval/music/music_data.pt'\n",
    "        self.eval_noise_data_dir = './eval/noise/noise_data.pt'\n",
    "        self.eval_speech_data_dir = './eval/speech/speech_data.pt'\n",
    "\n",
    "        self.car_data = torch.load(self.eval_car_data_dir)\n",
    "        self.music_data = torch.load(self.eval_music_data_dir)\n",
    "        self.noise_data = torch.load(self.eval_noise_data_dir)\n",
    "        self.speech_data = torch.load(self.eval_speech_data_dir)\n",
    "        self.data = self.car_data + self.music_data + self.noise_data + self.speech_data\n",
    "        \n",
    "    def __len__(self):\n",
    "        return len(self.data)\n",
    "    def __getitem__(self,x):\n",
    "        return self.data[x]"
   ]
  }
 ],
 "metadata": {
  "colab": {
   "authorship_tag": "ABX9TyMvbrUS8pHkNguZI7ynmNPo",
   "mount_file_id": "15WwKC6011x1WJjoK5zlGovbNZQfmne1S",
   "provenance": []
  },
  "kernelspec": {
   "display_name": "Python 3",
   "name": "python3"
  },
  "language_info": {
   "name": "python"
  }
 },
 "nbformat": 4,
 "nbformat_minor": 0
}
