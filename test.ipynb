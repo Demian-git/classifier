{
 "cells": [
  {
   "cell_type": "code",
   "execution_count": 43,
   "id": "c3e2f80c",
   "metadata": {},
   "outputs": [],
   "source": [
    "# # #5/19 테스트\n",
    "# from google.colab import drive\n",
    "# drive.mount('/content/drive')\n",
    "import os\n",
    "# os.chdir('/content/drive/MyDrive/Colab Notebooks/swishnet')\n",
    "# import sys\n",
    "# sys.path.append(os.getcwd())\n",
    "# !pip install import-ipynb"
   ]
  },
  {
   "cell_type": "code",
   "execution_count": null,
   "id": "31c3aef3",
   "metadata": {},
   "outputs": [],
   "source": [
    "cutting_size = 20000 # 16000~48000\n",
    "path = \"./test/car_2.wav\""
   ]
  },
  {
   "cell_type": "code",
   "execution_count": 45,
   "id": "464e0dee",
   "metadata": {},
   "outputs": [],
   "source": [
    "import torch\n",
    "import torchaudio\n",
    "import import_ipynb\n",
    "\n",
    "from model import swishnet"
   ]
  },
  {
   "cell_type": "code",
   "execution_count": 46,
   "id": "3c1d2efa",
   "metadata": {},
   "outputs": [
    {
     "name": "stdout",
     "output_type": "stream",
     "text": [
      "cuda\n"
     ]
    }
   ],
   "source": [
    "device = \"cuda\" if torch.cuda.is_available() else \"cpu\"\n",
    "print(device)"
   ]
  },
  {
   "cell_type": "code",
   "execution_count": 47,
   "id": "4274f7e8",
   "metadata": {},
   "outputs": [
    {
     "name": "stdout",
     "output_type": "stream",
     "text": [
      "원래 shape: torch.Size([2, 220500])\n",
      "torch.Size([80000])\n",
      "최종 shape: torch.Size([80000])\n",
      "샘플 수: 80000\n",
      "길이 (초): 5.0\n"
     ]
    }
   ],
   "source": [
    "waveform, sample_rate = torchaudio.load(path)\n",
    "print(\"원래 shape:\", waveform.shape)\n",
    "\n",
    "# 다채널이면 평균내서 모노로\n",
    "if waveform.shape[0] > 1:\n",
    "    waveform = waveform.mean(dim=0, keepdim=True)\n",
    "\n",
    "# Resample\n",
    "resampler = torchaudio.transforms.Resample(orig_freq=sample_rate, new_freq=16000)\n",
    "resampled_waveform = resampler(waveform)\n",
    "\n",
    "# 1채널이므로 squeeze로 1D 텐서 만들기\n",
    "resampled_waveform = resampled_waveform.squeeze(0)\n",
    "print(resampled_waveform.shape)\n",
    "print(\"최종 shape:\", resampled_waveform.shape)  # torch.Size([샘플 수])\n",
    "print(\"샘플 수:\", resampled_waveform.shape[0])\n",
    "print(\"길이 (초):\", resampled_waveform.shape[0] / 16000)"
   ]
  },
  {
   "cell_type": "code",
   "execution_count": 48,
   "id": "33b97d66",
   "metadata": {},
   "outputs": [
    {
     "data": {
      "text/plain": [
       "swishnet(\n",
       "  (dropout): Dropout(p=0.2, inplace=False)\n",
       "  (mfcc_transform): MFCC(\n",
       "    (amplitude_to_DB): AmplitudeToDB()\n",
       "    (MelSpectrogram): MelSpectrogram(\n",
       "      (spectrogram): Spectrogram()\n",
       "      (mel_scale): MelScale()\n",
       "    )\n",
       "  )\n",
       "  (block_1_up): swishnet_module(\n",
       "    (tanh): Tanh()\n",
       "    (sig): Sigmoid()\n",
       "    (CausalConv1d): CausalConv1d(\n",
       "      (conv): Conv1d(20, 16, kernel_size=(3,), stride=(1,))\n",
       "    )\n",
       "  )\n",
       "  (block_1_down): swishnet_module(\n",
       "    (tanh): Tanh()\n",
       "    (sig): Sigmoid()\n",
       "    (CausalConv1d): CausalConv1d(\n",
       "      (conv): Conv1d(20, 16, kernel_size=(6,), stride=(1,))\n",
       "    )\n",
       "  )\n",
       "  (block_2_up): swishnet_module(\n",
       "    (tanh): Tanh()\n",
       "    (sig): Sigmoid()\n",
       "    (CausalConv1d): CausalConv1d(\n",
       "      (conv): Conv1d(32, 8, kernel_size=(3,), stride=(1,))\n",
       "    )\n",
       "  )\n",
       "  (block_2_down): swishnet_module(\n",
       "    (tanh): Tanh()\n",
       "    (sig): Sigmoid()\n",
       "    (CausalConv1d): CausalConv1d(\n",
       "      (conv): Conv1d(32, 8, kernel_size=(6,), stride=(1,))\n",
       "    )\n",
       "  )\n",
       "  (block_3_up): swishnet_module(\n",
       "    (tanh): Tanh()\n",
       "    (sig): Sigmoid()\n",
       "    (CausalConv1d): CausalConv1d(\n",
       "      (conv): Conv1d(16, 8, kernel_size=(3,), stride=(1,))\n",
       "    )\n",
       "  )\n",
       "  (block_3_down): swishnet_module(\n",
       "    (tanh): Tanh()\n",
       "    (sig): Sigmoid()\n",
       "    (CausalConv1d): CausalConv1d(\n",
       "      (conv): Conv1d(16, 8, kernel_size=(6,), stride=(1,))\n",
       "    )\n",
       "  )\n",
       "  (block_4): swishnet_module(\n",
       "    (tanh): Tanh()\n",
       "    (sig): Sigmoid()\n",
       "    (CausalConv1d): CausalConv1d(\n",
       "      (conv): Conv1d(16, 16, kernel_size=(3,), stride=(1,), dilation=(3,))\n",
       "    )\n",
       "  )\n",
       "  (block_5): swishnet_module(\n",
       "    (tanh): Tanh()\n",
       "    (sig): Sigmoid()\n",
       "    (CausalConv1d): CausalConv1d(\n",
       "      (conv): Conv1d(16, 16, kernel_size=(3,), stride=(1,), dilation=(2,))\n",
       "    )\n",
       "  )\n",
       "  (block_6): swishnet_module(\n",
       "    (tanh): Tanh()\n",
       "    (sig): Sigmoid()\n",
       "    (CausalConv1d): CausalConv1d(\n",
       "      (conv): Conv1d(16, 16, kernel_size=(3,), stride=(1,), dilation=(2,))\n",
       "    )\n",
       "  )\n",
       "  (block_7): swishnet_module(\n",
       "    (tanh): Tanh()\n",
       "    (sig): Sigmoid()\n",
       "    (CausalConv1d): CausalConv1d(\n",
       "      (conv): Conv1d(16, 16, kernel_size=(3,), stride=(1,), dilation=(2,))\n",
       "    )\n",
       "  )\n",
       "  (block_8): swishnet_module(\n",
       "    (tanh): Tanh()\n",
       "    (sig): Sigmoid()\n",
       "    (CausalConv1d): CausalConv1d(\n",
       "      (conv): Conv1d(16, 32, kernel_size=(3,), stride=(1,), dilation=(2,))\n",
       "    )\n",
       "  )\n",
       "  (cnn_9): Conv1d(80, 4, kernel_size=(1,), stride=(1,))\n",
       "  (AdaptiveAvgPool1d): AdaptiveAvgPool1d(output_size=1)\n",
       "  (soft): Softmax(dim=1)\n",
       ")"
      ]
     },
     "execution_count": 48,
     "metadata": {},
     "output_type": "execute_result"
    }
   ],
   "source": [
    "model = swishnet(sample_rate = 16000).to(device)\n",
    "model.load_state_dict(torch.load('./swishnet_times_0_epoch_410(random).pth'))\n",
    "model.eval()"
   ]
  },
  {
   "cell_type": "code",
   "execution_count": 49,
   "id": "b99e1547",
   "metadata": {},
   "outputs": [
    {
     "name": "stdout",
     "output_type": "stream",
     "text": [
      "tensor([0], device='cuda:0')\n",
      "tensor([0], device='cuda:0')\n",
      "tensor([0], device='cuda:0')\n",
      "tensor([0], device='cuda:0')\n"
     ]
    }
   ],
   "source": [
    "num_segments = resampled_waveform.shape[0] // cutting_size\n",
    "\n",
    "for i in range(num_segments):\n",
    "    with torch.no_grad():\n",
    "        cutted = resampled_waveform[i * cutting_size : (i + 1) * cutting_size]\n",
    "        cutted = cutted.unsqueeze(0).unsqueeze(0) # (1, 16000) 모양으로 배치 차원 추가\n",
    "        pred = model(cutted.to(device))   # 모델도 GPU에 올라가 있어야 함\n",
    "        probs = torch.softmax(pred, dim=1)\n",
    "    #car 0\n",
    "    #music= 1\n",
    "    #speech = 2\n",
    "    #noise = 3\n",
    "        preds = probs.argmax(dim=1)# 🔸예측 클래스 index\n",
    "        print(preds)"
   ]
  }
 ],
 "metadata": {
  "kernelspec": {
   "display_name": ".venv",
   "language": "python",
   "name": "python3"
  },
  "language_info": {
   "codemirror_mode": {
    "name": "ipython",
    "version": 3
   },
   "file_extension": ".py",
   "mimetype": "text/x-python",
   "name": "python",
   "nbconvert_exporter": "python",
   "pygments_lexer": "ipython3",
   "version": "3.12.9"
  }
 },
 "nbformat": 4,
 "nbformat_minor": 5
}
